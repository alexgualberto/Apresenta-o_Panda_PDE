{
  "nbformat": 4,
  "nbformat_minor": 0,
  "metadata": {
    "colab": {
      "provenance": []
    },
    "kernelspec": {
      "name": "python3",
      "display_name": "Python 3"
    },
    "language_info": {
      "name": "python"
    }
  },
  "cells": [
    {
      "cell_type": "markdown",
      "source": [
        "\n",
        "Membros do Grupo de Processamento de Dados em Escala\n",
        "\n",
        "*   Alexandre dos Santos Gualberto\n",
        "*   Otávio Scieve Uliana\n",
        "*   Yasmin Victoria Oliveira\n",
        "*   Matheus Bessa Coutinho Colombo\n",
        "*   Igor Kenji Kawai Ueno\n",
        "*   Isadora Ferreira Pinheiro\n",
        "\n"
      ],
      "metadata": {
        "id": "t5hRZ2Gh-vLM"
      }
    },
    {
      "cell_type": "markdown",
      "source": [
        "# Introdução ao Big Data\n",
        "\n",
        "No mundo atual, uma enorme quantidade de informação é constantemente gerada, seja essa informação textos, imagens, vídeos ou qualquer outro formato. Assim, foi criado o conceito de **Big Data** para se referir a esse grande volume de dados que, justamente pelo seu tamanho, é difícil de ser processado em um espaço de tempo útil.\n",
        "\n",
        "O **Big Data** foi alavancado recentemente graças aos grandes avanços tecnológicos das últimas décadas. Hoje, quase toda a população possui um telefone celular, e um único aparelho desses é capaz de gerar **gigabytes** de vídeos e imagens. Além disso, quase todas essas pessoas possuem pelo menos um tipo de **rede social**, e cada um de seus passos nessas redes cria algum tipo de dado, que é usado por algoritmos para definir, por exemplo, o que será mostrado a essa pessoa.\n",
        "\n",
        "## Os 5V’s do Big Data\n",
        "\n",
        "O conceito de **Big Data** pode ser descrito por cinco características principais, conhecidas como os **5V’s**:\n",
        "\n",
        "- **Volume**: A grande quantidade de dados gerada diariamente.\n",
        "- **Velocidade**: A rapidez com que esses dados são criados e precisam ser processados.\n",
        "- **Variedade**: A diversidade dos formatos dos dados (textos, imagens, vídeos, planilhas, etc.).\n",
        "- **Veracidade**: A necessidade de garantir que os dados sejam confiáveis e precisos.\n",
        "- **Valor**: O uso estratégico dessas informações para gerar insights e inteligência de negócios.\n",
        "\n",
        "## Modelos Computacionais para Big Data\n",
        "\n",
        "A existência do **Big Data** fez necessária a criação de modelos computacionais para processar enormes quantidades de dados em um tempo reduzido. Um dos primeiros modelos desenvolvidos para essa finalidade foi o **MapReduce**.\n",
        "\n",
        "### O que é o MapReduce?\n",
        "\n",
        "O **MapReduce** consiste em duas etapas principais: **Map** e **Reduce**.\n",
        "\n",
        "1. **Fase de Map**:\n",
        "   - A grande quantidade de dados é dividida em **grupos menores chamados splits**, que são distribuídos entre os vários nós (máquinas) de um **cluster de processamento**.\n",
        "   - Essa divisão permite que a tarefa seja executada em **paralelo**, acelerando significativamente o processamento.\n",
        "\n",
        "2. **Fase de Reduce**:\n",
        "   - Os dados processados na fase de Map são **agrupados e ordenados** (shuffle).\n",
        "   - Aplicação da função Reduce, que **agrega ou resume** os valores associados a cada chave.\n",
        "\n",
        "### Hadoop e Spark: Estruturas de Software para Processamento Distribuído\n",
        "\n",
        "Para facilitar a implementação de modelos como o **MapReduce**, que utiliza clusters de máquinas para o processamento de dados, surgiram estruturas de software voltadas para esse tipo de tarefa.\n",
        "\n",
        "#### Hadoop\n",
        "\n",
        "O **Hadoop** é uma das primeiras e mais amplamente adotadas plataformas para **Big Data**, projetada para **abstrair a complexidade do processamento distribuído**. Ele permite que grandes quantidades de dados sejam processadas sem que o usuário precise se preocupar com a infraestrutura subjacente.\n",
        "\n",
        "**Limitações do Hadoop:**\n",
        "- **Processamento em lote (batch processing)**, o que pode não ser ideal para aplicações que exigem respostas em tempo real.\n",
        "- **Dependência de leitura e escrita em disco**, o que pode reduzir a velocidade do processamento.\n",
        "\n",
        "#### Spark\n",
        "\n",
        "O **Apache Spark** foi desenvolvido posteriormente como uma **evolução do Hadoop**, trazendo diversas otimizações, como:\n",
        "\n",
        "- **Armazenamento em memória** para aumentar a velocidade de execução.\n",
        "- **Execução otimizada de consultas**, reduzindo a latência do processamento.\n",
        "- **APIs para diversas linguagens de programação** (Java, Scala, Python e R), tornando-o mais flexível para desenvolvedores.\n",
        "\n",
        "O Spark é amplamente utilizado para:\n",
        "- **Processamento em lote**\n",
        "- **Análises interativas**\n",
        "- **Streaming de dados em tempo real**\n",
        "- **Machine Learning**\n",
        "- **Processamento de grafos**\n",
        "\n",
        "## Conclusão\n",
        "\n",
        "O avanço do **Big Data** e das tecnologias associadas permitiu que as empresas e pesquisadores pudessem explorar **grandes volumes de dados de maneira eficiente**. Ferramentas como **Hadoop** e **Spark** são fundamentais para esse ecossistema, possibilitando o processamento distribuído de forma escalável. Com a crescente geração de dados, a tendência é que novas tecnologias surjam para tornar o processamento de Big Data **ainda mais rápido e acessível**."
      ],
      "metadata": {
        "id": "jVxMIDoa-fWs"
      }
    },
    {
      "cell_type": "markdown",
      "source": [
        "# SparkContext e SparkSession\n",
        "- O **SparkContext** é o ponto de entrada para todas as operações do Apache Spark. Ele atua como o nó principal no cluster de processamento, distribuindo tarefas entre os worker nodes.\n",
        "- O **SparkSession** é uma API mais moderna e prática que substitui o SparkContext em muitos casos, permitindo uma integração mais fluida com **DataFrames e SQL**.\n",
        "- Exemplo de inicialização do Spark:"
      ],
      "metadata": {
        "id": "c7_CnfyYC6qe"
      }
    },
    {
      "cell_type": "code",
      "source": [
        "from pyspark import SparkConf, SparkContext\n",
        "\n",
        "conf = SparkConf().setAppName(\"example\").setMaster(\"local\")\n",
        "sc = SparkContext.getOrCreate(conf=conf)\n",
        "\n",
        "\n"
      ],
      "metadata": {
        "id": "I8luV92SY0ql"
      },
      "execution_count": null,
      "outputs": []
    },
    {
      "cell_type": "code",
      "source": [
        "from pyspark.sql import SparkSession\n",
        "\n",
        "spark = SparkSession.builder \\\n",
        "    .appName(\"example\") \\\n",
        "    .master(\"local\") \\\n",
        "    .getOrCreate()"
      ],
      "metadata": {
        "id": "ON5GYKnAY2hA"
      },
      "execution_count": null,
      "outputs": []
    },
    {
      "cell_type": "markdown",
      "source": [
        "# RDDs (Resilient Distributed Datasets)\n",
        "- RDDs são a estrutura de dados fundamental do Spark, permitindo operações distribuídas em larga escala.\n",
        "- São imutáveis e permitem transformações e ações para processar dados de maneira eficiente.\n",
        "- A vantagem é uma tolerância maior a falhas, distribuindo os dados em vários nós em um cluster (partições), operando-as em paralelo para maior eficiência.\n",
        "- Não é indicado para aplicações que exigem alterações constantes nos dados.\n",
        "- Métodos comuns:\n",
        "  - map(), filter(), reduce(), collect().\n"
      ],
      "metadata": {
        "id": "MPYxjmhzDMCQ"
      }
    },
    {
      "cell_type": "markdown",
      "source": [
        "# DataFrames no PySpark\n",
        "- Os DataFrames são uma abstração de dados mais estruturada e otimizada do Spark, semelhante aos DataFrames do Pandas.\n",
        "- São altamente eficientes para manipulação de grandes volumes de dados.\n",
        "- Exemplo de criação de DataFrame:\n"
      ],
      "metadata": {
        "id": "_D9sOzHDD1aL"
      }
    },
    {
      "cell_type": "code",
      "source": [
        "data = [(\"Alice\", 25), (\"Bob\", 30), (\"Charlie\", 35)]\n",
        "df = spark.createDataFrame(data, [\"Nome\", \"Idade\"])\n",
        "df.show()"
      ],
      "metadata": {
        "id": "_89DlF1MD8sW",
        "colab": {
          "base_uri": "https://localhost:8080/"
        },
        "outputId": "4b6ae05f-096d-4c31-da13-7680753afc78"
      },
      "execution_count": null,
      "outputs": [
        {
          "output_type": "stream",
          "name": "stdout",
          "text": [
            "+-------+-----+\n",
            "|   Nome|Idade|\n",
            "+-------+-----+\n",
            "|  Alice|   25|\n",
            "|    Bob|   30|\n",
            "|Charlie|   35|\n",
            "+-------+-----+\n",
            "\n"
          ]
        }
      ]
    },
    {
      "cell_type": "markdown",
      "source": [
        "# Consultas SQL no PySpark\n",
        "- PySpark permite a execução de consultas SQL diretamente sobre os DataFrames, facilitando a análise de dados estruturados.\n",
        "- Exemplo:"
      ],
      "metadata": {
        "id": "odjgAIekEFgb"
      }
    },
    {
      "cell_type": "code",
      "source": [
        "df.createOrReplaceTempView(\"pessoas\")\n",
        "resultado = spark.sql(\"SELECT * FROM pessoas WHERE Idade > 30\")\n",
        "resultado.show()"
      ],
      "metadata": {
        "id": "DUgd7BVCEI6u",
        "colab": {
          "base_uri": "https://localhost:8080/"
        },
        "outputId": "50c619e0-cef9-472e-b211-acad2a348173"
      },
      "execution_count": null,
      "outputs": [
        {
          "output_type": "stream",
          "name": "stdout",
          "text": [
            "+-------+-----+\n",
            "|   Nome|Idade|\n",
            "+-------+-----+\n",
            "|Charlie|   35|\n",
            "+-------+-----+\n",
            "\n"
          ]
        }
      ]
    },
    {
      "cell_type": "markdown",
      "source": [
        "# Transformações e Ações\n",
        "- Transformações: Criam um novo RDD ou DataFrame a partir de um existente. São lazy (executadas apenas quando necessário).\n",
        "  - Exemplo: map(), filter(), groupBy().\n",
        "- Ações: Executam operações e retornam um valor final.\n",
        "  - Exemplo: count(), collect(), show()."
      ],
      "metadata": {
        "id": "2O8MA2ubEK3I"
      }
    },
    {
      "cell_type": "markdown",
      "source": [
        "## Otimizações e Armazenamento\n",
        "- O Spark permite o armazenamento em memória para acelerar o processamento.\n",
        "- Suporta particionamento de dados, melhorando a eficiência da computação distribuída.\n",
        "- O uso do cache() e persist() ajuda a evitar recomputações desnecessárias."
      ],
      "metadata": {
        "id": "OXk00doLEeEV"
      }
    },
    {
      "cell_type": "markdown",
      "source": [
        "# Algumas funções para manipulação de dados em PySpark"
      ],
      "metadata": {
        "id": "JPvkH7Z382Bq"
      }
    },
    {
      "cell_type": "markdown",
      "source": [
        "## GroupBy\n",
        "O groupBy é uma operação em PySpark que agrupa linhas de um DataFrame com base em uma ou mais colunas. Após agrupar os dados, você pode aplicar funções de agregação, como soma, média, contagem, entre outras, para calcular valores agregados para cada grupo.\n",
        "\n",
        "**Métodos agregados ao GroupBy:**\n",
        "* **count()**: Use groupBy().count() para retornar a quantidade de linhas em cada grupo.\n",
        "* **mean()**:\tRetorna a média dos valores para cada grupo.\n",
        "* **max()**:\tRetorna o valor máximo para cada grupo.\n",
        "* **min()**:\tRetorna o valor mínimo para cada grupo.\n",
        "* **sum()**:\tRetorna a soma dos valores de cada grupo.\n",
        "* **avg()**:\tRetorna a média dos valores para cada grupo.\n",
        "* **agg()**:\tUse groupBy().agg() function, para calcular mais de um funçào agregada ao mesmo tempo.\n",
        "* **pivot()**: o método pivot() é utilizado para especificar a coluna cujos valores distintos serão transformados em novas colunas. Cria uma tabela dinâmica que facilita análises, parecida com a pivot do Excell"
      ],
      "metadata": {
        "id": "qeGJ8A2j27zY"
      }
    },
    {
      "cell_type": "code",
      "source": [
        "!wget https://archive.ics.uci.edu/static/public/53/iris.zip -q\n",
        "!unzip -o iris.zip"
      ],
      "metadata": {
        "id": "qM0jjyM3Y8Mi"
      },
      "execution_count": null,
      "outputs": []
    },
    {
      "cell_type": "code",
      "source": [
        "from pyspark.sql import SparkSession\n",
        "from pyspark.sql.types import StructType, StructField, DoubleType, StringType\n",
        "\n",
        "spark = SparkSession.builder \\\n",
        "    .appName(\"IrisDataset\") \\\n",
        "    .master(\"local\") \\\n",
        "    .getOrCreate()\n",
        "\n",
        "schema = StructType([\n",
        "    StructField(\"sepal_length\", DoubleType(), True),\n",
        "    StructField(\"sepal_width\", DoubleType(), True),\n",
        "    StructField(\"petal_length\", DoubleType(), True),\n",
        "    StructField(\"petal_width\", DoubleType(), True),\n",
        "    StructField(\"species\", StringType(), True)\n",
        "])\n",
        "\n",
        "df = spark.read.csv(\"iris.data\", schema=schema, header=False)\n",
        "df.show(5)"
      ],
      "metadata": {
        "colab": {
          "base_uri": "https://localhost:8080/"
        },
        "id": "NWP1k64nGkQO",
        "outputId": "7c727b69-1e30-445a-d446-29de41bd9794"
      },
      "execution_count": null,
      "outputs": [
        {
          "output_type": "stream",
          "name": "stdout",
          "text": [
            "+------------+-----------+------------+-----------+-----------+\n",
            "|sepal_length|sepal_width|petal_length|petal_width|    species|\n",
            "+------------+-----------+------------+-----------+-----------+\n",
            "|         5.1|        3.5|         1.4|        0.2|Iris-setosa|\n",
            "|         4.9|        3.0|         1.4|        0.2|Iris-setosa|\n",
            "|         4.7|        3.2|         1.3|        0.2|Iris-setosa|\n",
            "|         4.6|        3.1|         1.5|        0.2|Iris-setosa|\n",
            "|         5.0|        3.6|         1.4|        0.2|Iris-setosa|\n",
            "+------------+-----------+------------+-----------+-----------+\n",
            "only showing top 5 rows\n",
            "\n"
          ]
        }
      ]
    },
    {
      "cell_type": "code",
      "source": [
        "df.groupBy(\"species\").count().show()"
      ],
      "metadata": {
        "id": "UMUnqK_J3Y3e",
        "colab": {
          "base_uri": "https://localhost:8080/"
        },
        "outputId": "b6a3f46c-8153-41f0-841b-622c3ad5c338"
      },
      "execution_count": null,
      "outputs": [
        {
          "output_type": "stream",
          "name": "stdout",
          "text": [
            "+---------------+-----+\n",
            "|        species|count|\n",
            "+---------------+-----+\n",
            "| Iris-virginica|   50|\n",
            "|    Iris-setosa|   50|\n",
            "|Iris-versicolor|   50|\n",
            "+---------------+-----+\n",
            "\n"
          ]
        }
      ]
    },
    {
      "cell_type": "code",
      "source": [
        "from pyspark.sql.functions import sum, avg, max, min, count\n",
        "\n",
        "df.groupBy(\"species\").agg(\n",
        "    avg(\"petal_length\").alias(\"mean_petal_length\"),\n",
        "    max(\"petal_length\").alias(\"max_petal_length\"),\n",
        "    min(\"petal_length\").alias(\"min_petal_length\"),\n",
        "    count(\"species\").alias(\"num_examples\")\n",
        ").show()"
      ],
      "metadata": {
        "colab": {
          "base_uri": "https://localhost:8080/"
        },
        "id": "qm5jN5-c3cX2",
        "outputId": "d4991135-e717-40eb-badc-a91e9b610e16"
      },
      "execution_count": null,
      "outputs": [
        {
          "output_type": "stream",
          "name": "stdout",
          "text": [
            "+---------------+-----------------+----------------+----------------+------------+\n",
            "|        species|mean_petal_length|max_petal_length|min_petal_length|num_examples|\n",
            "+---------------+-----------------+----------------+----------------+------------+\n",
            "| Iris-virginica|            5.552|             6.9|             4.5|          50|\n",
            "|    Iris-setosa|            1.464|             1.9|             1.0|          50|\n",
            "|Iris-versicolor|             4.26|             5.1|             3.0|          50|\n",
            "+---------------+-----------------+----------------+----------------+------------+\n",
            "\n"
          ]
        }
      ]
    },
    {
      "cell_type": "markdown",
      "source": [
        "## Window\n",
        "O Window em PySpark é usado para definir uma janela para operações de agregação e classificação sem colapsar os dados. Ele permite aplicar funções de janela como row_number, rank, dense_rank, sum, avg, entre outras, sobre um subconjunto de dados (janela) definido por partições e ordenações.\n",
        "\n",
        "**Funções de Janela em PySpark**\n",
        "* **row_number()**: Retorna um número sequencial começando de 1 dentro de uma\n",
        "partição da janela.\n",
        "* **rank()**: Retorna a classificação das linhas dentro de uma partição da janela, com lacunas.\n",
        "* **percent_rank()**: Retorna a classificação percentil das linhas dentro de uma partição da janela.\n",
        "* **dense_rank()**: Retorna a classificação das linhas dentro de uma partição da janela sem quaisquer lacunas. Enquanto rank() retorna a classificação com lacunas.\n",
        "* **ntile(n)**: Retorna o id do enésimo intervalo (ntile) em uma partição da janela.\n",
        "* **cume_dist()**: Retorna a distribuição cumulativa dos valores dentro de uma partição da janela.\n",
        "* **lag(columnname, offset, defaultvalue)**: No PySpark, a função lag() recupera o valor de uma coluna de uma linha anterior dentro da mesma janela. Ela permite aos usuários comparar valores entre linhas adjacentes e realizar cálculos com base na diferença ou relação entre valores consecutivos em um DataFrame.\n",
        "* **lead(columnname, offset, defaultvalue)**: A função lead() no PySpark recupera o valor de uma coluna de uma linha subsequente dentro da mesma janela. Ela permite aos usuários acessar valores à frente da linha atual e realizar comparações ou cálculos com base em valores futuros em um DataFrame."
      ],
      "metadata": {
        "id": "8-u2lj1XKebK"
      }
    },
    {
      "cell_type": "code",
      "source": [
        "from pyspark.sql.window import Window\n",
        "from pyspark.sql.functions import row_number, rank, dense_rank, cume_dist\n",
        "\n",
        "windowSpec  = Window.partitionBy(\"species\").orderBy(\"petal_length\")\n",
        "df.withColumn(\"row_number\", row_number().over(windowSpec)).show()"
      ],
      "metadata": {
        "colab": {
          "base_uri": "https://localhost:8080/"
        },
        "id": "BwyWqNz7KoLG",
        "outputId": "e41be931-52f5-42fa-aa27-9b0a5552b280"
      },
      "execution_count": null,
      "outputs": [
        {
          "output_type": "stream",
          "name": "stdout",
          "text": [
            "+------------+-----------+------------+-----------+-----------+----------+\n",
            "|sepal_length|sepal_width|petal_length|petal_width|    species|row_number|\n",
            "+------------+-----------+------------+-----------+-----------+----------+\n",
            "|         4.6|        3.6|         1.0|        0.2|Iris-setosa|         1|\n",
            "|         4.3|        3.0|         1.1|        0.1|Iris-setosa|         2|\n",
            "|         5.8|        4.0|         1.2|        0.2|Iris-setosa|         3|\n",
            "|         5.0|        3.2|         1.2|        0.2|Iris-setosa|         4|\n",
            "|         4.7|        3.2|         1.3|        0.2|Iris-setosa|         5|\n",
            "|         5.4|        3.9|         1.3|        0.4|Iris-setosa|         6|\n",
            "|         5.5|        3.5|         1.3|        0.2|Iris-setosa|         7|\n",
            "|         4.4|        3.0|         1.3|        0.2|Iris-setosa|         8|\n",
            "|         5.0|        3.5|         1.3|        0.3|Iris-setosa|         9|\n",
            "|         4.5|        2.3|         1.3|        0.3|Iris-setosa|        10|\n",
            "|         4.4|        3.2|         1.3|        0.2|Iris-setosa|        11|\n",
            "|         5.1|        3.5|         1.4|        0.2|Iris-setosa|        12|\n",
            "|         4.9|        3.0|         1.4|        0.2|Iris-setosa|        13|\n",
            "|         5.0|        3.6|         1.4|        0.2|Iris-setosa|        14|\n",
            "|         4.6|        3.4|         1.4|        0.3|Iris-setosa|        15|\n",
            "|         4.4|        2.9|         1.4|        0.2|Iris-setosa|        16|\n",
            "|         4.8|        3.0|         1.4|        0.1|Iris-setosa|        17|\n",
            "|         5.1|        3.5|         1.4|        0.3|Iris-setosa|        18|\n",
            "|         5.2|        3.4|         1.4|        0.2|Iris-setosa|        19|\n",
            "|         5.5|        4.2|         1.4|        0.2|Iris-setosa|        20|\n",
            "+------------+-----------+------------+-----------+-----------+----------+\n",
            "only showing top 20 rows\n",
            "\n"
          ]
        }
      ]
    },
    {
      "cell_type": "markdown",
      "source": [
        "- **GroupBy**:\n",
        "\n",
        "  * Agrupa linhas e aplica funções de agregação a cada grupo.\n",
        "  * Reduz o número de linhas no DataFrame.\n",
        "  * Útil para obter resumos agregados dos dados.\n",
        "\n",
        "- **Window**:\n",
        "\n",
        "  * Define uma janela para aplicar funções de janela, calculando sobre subconjuntos de dados.\n",
        "  * Mantém todas as linhas do DataFrame.\n",
        "  * Útil para cálculos mais complexos, como somas acumuladas e classificações.\n",
        "  \n",
        "Ambas as operações são essenciais para análises e transformações de dados em PySpark, mas servem a propósitos diferentes dependendo do tipo de resultado e análise desejada."
      ],
      "metadata": {
        "id": "CJ8-lOd1Ltx3"
      }
    },
    {
      "cell_type": "markdown",
      "source": [
        "## User-Defined Functions (UDFs) em PySpark\n",
        "UDFs (User-Defined Functions) em PySpark são funções definidas pelo usuário que permitem aplicar lógica personalizada em colunas de DataFrames. Elas são úteis quando as funções integradas de PySpark não atendem às necessidades específicas de uma análise ou transformação de dados.\n",
        "\n",
        "Para criar e usar uma UDF em PySpark, você geralmente segue estes passos:\n",
        "\n",
        "* Definir a função Python padrão que contém a lógica personalizada.\n",
        "* Registrar essa função como uma UDF usando pyspark.sql.functions.udf.\n",
        "* Aplicar a UDF ao DataFrame."
      ],
      "metadata": {
        "id": "LwNEgz83LyTb"
      }
    },
    {
      "cell_type": "code",
      "source": [
        "from pyspark.sql.functions import udf\n",
        "from pyspark.sql.types import StringType\n",
        "\n",
        "def classify_petal_length(length):\n",
        "    if length < 2:\n",
        "        return \"Small\"\n",
        "    elif length < 5:\n",
        "        return \"Medium\"\n",
        "    else:\n",
        "        return \"Large\"\n",
        "\n",
        "classify_petal_length_udf = udf(classify_petal_length, StringType())"
      ],
      "metadata": {
        "id": "lJjI0ZsIL11-"
      },
      "execution_count": null,
      "outputs": []
    },
    {
      "cell_type": "code",
      "source": [
        "df = df.withColumn(\"petal_size\", classify_petal_length_udf(df[\"petal_length\"]))\n",
        "df.show()"
      ],
      "metadata": {
        "colab": {
          "base_uri": "https://localhost:8080/"
        },
        "id": "Y2KOkLyFL7QZ",
        "outputId": "36999397-3f96-4b7a-92cb-730ae98c1366"
      },
      "execution_count": null,
      "outputs": [
        {
          "output_type": "stream",
          "name": "stdout",
          "text": [
            "+------------+-----------+------------+-----------+-----------+----------+\n",
            "|sepal_length|sepal_width|petal_length|petal_width|    species|petal_size|\n",
            "+------------+-----------+------------+-----------+-----------+----------+\n",
            "|         5.1|        3.5|         1.4|        0.2|Iris-setosa|     Small|\n",
            "|         4.9|        3.0|         1.4|        0.2|Iris-setosa|     Small|\n",
            "|         4.7|        3.2|         1.3|        0.2|Iris-setosa|     Small|\n",
            "|         4.6|        3.1|         1.5|        0.2|Iris-setosa|     Small|\n",
            "|         5.0|        3.6|         1.4|        0.2|Iris-setosa|     Small|\n",
            "|         5.4|        3.9|         1.7|        0.4|Iris-setosa|     Small|\n",
            "|         4.6|        3.4|         1.4|        0.3|Iris-setosa|     Small|\n",
            "|         5.0|        3.4|         1.5|        0.2|Iris-setosa|     Small|\n",
            "|         4.4|        2.9|         1.4|        0.2|Iris-setosa|     Small|\n",
            "|         4.9|        3.1|         1.5|        0.1|Iris-setosa|     Small|\n",
            "|         5.4|        3.7|         1.5|        0.2|Iris-setosa|     Small|\n",
            "|         4.8|        3.4|         1.6|        0.2|Iris-setosa|     Small|\n",
            "|         4.8|        3.0|         1.4|        0.1|Iris-setosa|     Small|\n",
            "|         4.3|        3.0|         1.1|        0.1|Iris-setosa|     Small|\n",
            "|         5.8|        4.0|         1.2|        0.2|Iris-setosa|     Small|\n",
            "|         5.7|        4.4|         1.5|        0.4|Iris-setosa|     Small|\n",
            "|         5.4|        3.9|         1.3|        0.4|Iris-setosa|     Small|\n",
            "|         5.1|        3.5|         1.4|        0.3|Iris-setosa|     Small|\n",
            "|         5.7|        3.8|         1.7|        0.3|Iris-setosa|     Small|\n",
            "|         5.1|        3.8|         1.5|        0.3|Iris-setosa|     Small|\n",
            "+------------+-----------+------------+-----------+-----------+----------+\n",
            "only showing top 20 rows\n",
            "\n"
          ]
        }
      ]
    },
    {
      "cell_type": "markdown",
      "source": [
        "# Introdução à MLlib\n",
        "\n",
        "\n",
        "A MLlib é a biblioteca de Machine Learning do PySpark, que busca tornar modelos de aprendizado de máquina escaláveis.\n",
        "\n",
        "Há 2 APIs do MLlib, uma baseada em DataFrames e outra em RDDS, entretanto, destaca-se que o primeiro apresenta uma API mais amigável aos usuários.\n",
        "\n",
        "\n",
        "\n"
      ],
      "metadata": {
        "id": "f9MHRIyp87Pb"
      }
    },
    {
      "cell_type": "markdown",
      "source": [
        "## Técnica de pré-processamento para treinamento de Modelos\n",
        "\n",
        "### Remoção de duplicadas\n",
        "Remover duplicatas ajuda a evitar redundâncias nos dados, garantindo que cada amostra seja única, o que é essencial para evitar o viés durante o treinamento do modelo.\n",
        "\n",
        "A remoção das linhas duplicadas pode ser feita usando o método `dropDuplicates`, que retorna os dados sem as duplicadas."
      ],
      "metadata": {
        "id": "HcmB8f82OoCu"
      }
    },
    {
      "cell_type": "code",
      "source": [
        "df = spark.read.csv(\"iris.data\", schema=schema, header=False)\n",
        "df = df.dropDuplicates()"
      ],
      "metadata": {
        "id": "FweKQ_NkOrPX"
      },
      "execution_count": null,
      "outputs": []
    },
    {
      "cell_type": "markdown",
      "source": [
        "### Remoção de valores nulos\n",
        "\n",
        "A remoção de uma linha pode ser feita caso pelo menos um de seus valores esteja faltando (`any`) ou caso todos seus valores estejam faltando (`all`)."
      ],
      "metadata": {
        "id": "YMTS0-XbO2ff"
      }
    },
    {
      "cell_type": "code",
      "source": [
        "df = df.na.drop(how='any') # Remove qualquer linha que tenha pelo menos 1 valor faltante\n",
        "df = df.na.drop(how='all') # Remove qualquer linha que tenha todos os valores faltante"
      ],
      "metadata": {
        "id": "AqCnbbpUO2HC"
      },
      "execution_count": null,
      "outputs": []
    },
    {
      "cell_type": "markdown",
      "source": [
        "### Tratamento de valores nulos\n",
        "\n",
        "Em vez de remover linhas inteiras com valores nulos, é possível substituí-los por medidas estatísticas, como a média, mediana ou moda, dependendo do caso de uso. Isso ajuda a preservar informações valiosas nos dados.\n",
        "\n",
        "```python\n",
        "# Substituição por média\n",
        "mean_value = df.select(mean('column_name')).collect()[0][0]\n",
        "df = df.fillna({'column_name': mean_value})\n",
        "\n",
        "# Substituição por mediana (exemplo ilustrativo, cálculo da mediana deve ser implementado)\n",
        "median_value = 50  # Exemplo de valor calculado previamente\n",
        "df = df.fillna({'column_name': median_value})\n",
        "\n",
        "# Substituição por moda (exemplo ilustrativo)\n",
        "mode_value = 30  # Exemplo de valor calculado previamente\n",
        "df = df.fillna({'column_name': mode_value})\n",
        "```"
      ],
      "metadata": {
        "id": "yWS0lPfOPaRL"
      }
    },
    {
      "cell_type": "markdown",
      "source": [
        "### Remoção de valores inconsistentes\n",
        "\n",
        "A definição de valores inconsistentes depende dos dados sendo considerados. Por exemplo, em uma coluna com dados numéricos com casas decimais e unidade de medida, é possível aplicar uma expressão regular para filtrar os valores que atendem ao formato esperado. Além disso, pode-se definir intervalos válidos para eliminar valores fora do esperado, como no caso de limites mínimos e máximos.\n",
        "\n",
        "```python\n",
        "# Filtragem por formato utilizando expressão regular\n",
        "expr = '([0-9]+\\.?[0-9]*)'\n",
        "filtered_df = df.filter(df[column].rlike(expr))\n",
        "\n",
        "# Filtragem por intervalos válidos\n",
        "df = df.filter((df['column_name'] >= 0) & (df['column_name'] <= 100))\n",
        "```"
      ],
      "metadata": {
        "id": "hKgTF5FUQYpX"
      }
    },
    {
      "cell_type": "markdown",
      "source": [
        "### Conversão de colunas\n",
        "\n",
        "A conversão das colunas deve ser feita de acordo com os dados sendo considerados, por exemplo, uma coluna com valor numérico seguido por unidades de medida diversas pode ter seus valores convertido para o tipo `double`.\n",
        "\n",
        "```python\n",
        "def convert(value):\n",
        "    if value.endswith('IU'):\n",
        "        return float(value[:-2])\n",
        "    elif value.endswith('mcg'):\n",
        "        return float(value[:-1]) * 40\n",
        "    else:\n",
        "        return float(value)\n",
        "\n",
        "# Registrar a função como UDF (User Defined Function)\n",
        "convert_udf = udf(convert, DoubleType())\n",
        "\n",
        "# Aplicar a função de conversão\n",
        "df = df.withColumn(\"column_name\", convert_udf(col(\"column_name\")))\n",
        "```"
      ],
      "metadata": {
        "id": "bdqtvnCOQUVu"
      }
    },
    {
      "cell_type": "markdown",
      "source": [
        "### Normalização ou Padronização\n",
        "Normalização e padronização são usadas para ajustar os valores numéricos em uma escala uniforme, garantindo que todas as variáveis tenham a mesma importância no modelo.\n",
        "- **Normalização**: escala os dados para um intervalo definido, como [0, 1].\n",
        "- **Padronização**: ajusta os dados para que tenham média 0 e desvio padrão 1."
      ],
      "metadata": {
        "id": "_H5PdnU7QmEy"
      }
    },
    {
      "cell_type": "code",
      "source": [
        "from pyspark.ml.feature import StandardScaler, VectorAssembler,  StringIndexer\n",
        "\n",
        "# Codificar a coluna 'species' para valores numéricos (0,1,2)\n",
        "indexer = StringIndexer(inputCol=\"species\", outputCol=\"label\")\n",
        "df = indexer.fit(df).transform(df)\n",
        "\n",
        "# Criar um vetor de features para a normalização\n",
        "assembler = VectorAssembler(\n",
        "    inputCols=[\"sepal_length\", \"sepal_width\", \"petal_length\", \"petal_width\"],\n",
        "    outputCol=\"features\"\n",
        ")\n",
        "df = assembler.transform(df)\n",
        "\n",
        "# Aplicar o StandardScaler para padronização\n",
        "scaler = StandardScaler(inputCol=\"features\", outputCol=\"standardized_features\", withMean=True, withStd=True)\n",
        "standardized_df = scaler.fit(df).transform(df)\n",
        "\n",
        "standardized_df.select(\"features\", \"standardized_features\").show(truncate=False)"
      ],
      "metadata": {
        "colab": {
          "base_uri": "https://localhost:8080/"
        },
        "id": "cUch0lPwQqoa",
        "outputId": "db0cfc53-1942-4dd8-b6f6-42e89a341d11"
      },
      "execution_count": null,
      "outputs": [
        {
          "output_type": "stream",
          "name": "stdout",
          "text": [
            "+-----------------+----------------------------------------------------------------------------------+\n",
            "|features         |standardized_features                                                             |\n",
            "+-----------------+----------------------------------------------------------------------------------+\n",
            "|[5.6,2.7,4.2,1.3]|[-0.30932653252023296,-0.8141309483913763,0.2386022911734323,0.12027914653219025] |\n",
            "|[7.6,3.0,6.6,2.1]|[2.102928124268847,-0.12764577011107614,1.60292787182152,1.1758632981878294]      |\n",
            "|[7.2,3.2,6.0,1.8]|[1.6204771929110315,0.3300110154091247,1.2618464766594983,0.7800192413169648]     |\n",
            "|[5.7,3.0,4.2,1.2]|[-0.1887137996807783,-0.12764577011107614,0.2386022911734323,-0.01166887242476476]|\n",
            "|[6.2,2.9,4.3,1.3]|[0.4143498645164917,-0.35647416287117656,0.29544919036710243,0.12027914653219025] |\n",
            "|[5.4,3.9,1.3,0.4]|[-0.55055199819914,1.9318097647298256,-1.4099577854430076,-1.067253024080404]     |\n",
            "|[5.7,2.5,5.0,2.0]|[-0.1887137996807783,-1.2717877339115773,0.6933774847227949,1.0439152792308743]   |\n",
            "|[6.7,3.1,4.4,1.4]|[1.0174135287137616,0.10118262264902426,0.3522960895607731,0.252227165489145]     |\n",
            "|[5.1,3.7,1.5,0.4]|[-0.9123901967175029,1.4741529792096257,-1.2962639870556671,-1.067253024080404]   |\n",
            "|[6.0,3.0,4.8,1.8]|[0.17312439883758346,-0.12764577011107614,0.5796836863354541,0.7800192413169648]  |\n",
            "|[5.8,2.6,4.0,1.2]|[-0.06810106684132473,-1.0429593411514768,0.1249084927860915,-0.01166887242476476]|\n",
            "|[6.2,2.8,4.8,1.8]|[0.4143498645164917,-0.585302555631277,0.5796836863354541,0.7800192413169648]     |\n",
            "|[5.9,3.0,5.1,1.8]|[0.052511665998129904,-0.12764577011107614,0.7502243839164651,0.7800192413169648] |\n",
            "|[5.8,2.8,5.1,2.4]|[-0.06810106684132473,-0.585302555631277,0.7502243839164651,1.571707355058694]    |\n",
            "|[6.3,2.9,5.6,1.8]|[0.5349625973559452,-0.35647416287117656,1.0344588798848167,0.7800192413169648]   |\n",
            "|[5.5,2.5,4.0,1.3]|[-0.4299392653596865,-1.2717877339115773,0.1249084927860915,0.12027914653219025]  |\n",
            "|[4.8,3.1,1.6,0.2]|[-1.2742283952358646,0.10118262264902426,-1.2394170878619966,-1.3311490619943136] |\n",
            "|[6.4,3.2,4.5,1.5]|[0.6555753301953999,0.3300110154091247,0.4091429887544432,0.3841751844461]        |\n",
            "|[5.0,3.3,1.4,0.2]|[-1.0330029295569565,0.5588394081692241,-1.3531108862493375,-1.3311490619943136]  |\n",
            "|[5.5,2.4,3.7,1.0]|[-0.4299392653596865,-1.5006161266716775,-0.04563220479491943,-0.2755649103386745]|\n",
            "+-----------------+----------------------------------------------------------------------------------+\n",
            "only showing top 20 rows\n",
            "\n"
          ]
        }
      ]
    },
    {
      "cell_type": "markdown",
      "source": [
        "## Aprendizado Supervisionado\n",
        "\n",
        "O aprendizado supervisionado envolve treinar um modelo usando dados rotulados, permitindo que ele preveja a saída para novos dados. A biblioteca MLlib do PySpark oferece suporte a diversos modelos supervisionados, incluindo classificação, regressão e árvores de decisão."
      ],
      "metadata": {
        "id": "QeuL4uPg9FX5"
      }
    },
    {
      "cell_type": "code",
      "source": [
        "from pyspark.ml.classification import LogisticRegression\n",
        "\n",
        "# Dividir os dados em treino e teste (80% treino, 20% teste)\n",
        "train_df, test_df = standardized_df.randomSplit([0.8, 0.2])\n",
        "\n",
        "lr = LogisticRegression(featuresCol=\"standardized_features\", labelCol=\"label\")\n",
        "lr_model = lr.fit(train_df)\n",
        "\n",
        "predictions = lr_model.transform(test_df)\n",
        "\n",
        "predictions.select(\"features\", \"label\", \"prediction\").show(10)"
      ],
      "metadata": {
        "colab": {
          "base_uri": "https://localhost:8080/"
        },
        "id": "glUbCLuOygpb",
        "outputId": "2c278361-0f86-4fdf-8e8c-735853b62751"
      },
      "execution_count": null,
      "outputs": [
        {
          "output_type": "stream",
          "name": "stdout",
          "text": [
            "+-----------------+-----+----------+\n",
            "|         features|label|prediction|\n",
            "+-----------------+-----+----------+\n",
            "|[4.6,3.1,1.5,0.2]|  2.0|       2.0|\n",
            "|[5.0,3.4,1.5,0.2]|  2.0|       2.0|\n",
            "|[5.1,3.5,1.4,0.3]|  2.0|       2.0|\n",
            "|[5.2,3.4,1.4,0.2]|  2.0|       2.0|\n",
            "|[5.2,4.1,1.5,0.1]|  2.0|       2.0|\n",
            "|[5.4,3.4,1.7,0.2]|  2.0|       2.0|\n",
            "|[5.6,2.8,4.9,2.0]|  1.0|       1.0|\n",
            "|[5.6,3.0,4.5,1.5]|  0.0|       0.0|\n",
            "|[6.0,2.2,4.0,1.0]|  0.0|       0.0|\n",
            "|[6.0,2.2,5.0,1.5]|  1.0|       1.0|\n",
            "+-----------------+-----+----------+\n",
            "only showing top 10 rows\n",
            "\n"
          ]
        }
      ]
    },
    {
      "cell_type": "code",
      "source": [
        "from pyspark.ml.evaluation import MulticlassClassificationEvaluator\n",
        "\n",
        "# Acurácia\n",
        "accuracy_evaluator = MulticlassClassificationEvaluator(labelCol=\"label\", predictionCol=\"prediction\", metricName=\"accuracy\")\n",
        "accuracy = accuracy_evaluator.evaluate(predictions)\n",
        "\n",
        "# F1-Score\n",
        "f1_evaluator = MulticlassClassificationEvaluator(labelCol=\"label\", predictionCol=\"prediction\", metricName=\"f1\")\n",
        "f1_score = f1_evaluator.evaluate(predictions)\n",
        "\n",
        "print(f\"Acurácia do modelo: {accuracy:.4f}\")\n",
        "print(f\"F1-Score do modelo: {f1_score:.4f}\")"
      ],
      "metadata": {
        "colab": {
          "base_uri": "https://localhost:8080/"
        },
        "id": "Fi9Pj313V4hI",
        "outputId": "600825dc-70d5-4815-e807-f854163a8ad6"
      },
      "execution_count": null,
      "outputs": [
        {
          "output_type": "stream",
          "name": "stdout",
          "text": [
            "Acurácia do modelo: 0.9091\n",
            "F1-Score do modelo: 0.9105\n"
          ]
        }
      ]
    },
    {
      "cell_type": "code",
      "source": [
        "import matplotlib.pyplot as plt\n",
        "import seaborn as sns\n",
        "import pandas as pd\n",
        "from sklearn.metrics import confusion_matrix\n",
        "\n",
        "predictions_pandas = predictions.select(\"label\", \"prediction\").toPandas()\n",
        "\n",
        "# Criar a matriz de confusão\n",
        "cm = confusion_matrix(predictions_pandas[\"label\"], predictions_pandas[\"prediction\"])\n",
        "\n",
        "# Criar um heatmap para visualizar a matriz de confusão\n",
        "plt.figure(figsize=(6, 5))\n",
        "sns.heatmap(cm, annot=True, fmt=\"d\", cmap=\"Blues\", xticklabels=[\"Classe 0\", \"Classe 1\", \"Classe 2\"],\n",
        "            yticklabels=[\"Classe 0\", \"Classe 1\", \"Classe 2\"])\n",
        "\n",
        "plt.title(\"Matriz de Confusão - Regressão Logística no Dataset Iris\")\n",
        "plt.xlabel(\"Classe Prevista\")\n",
        "plt.ylabel(\"Classe Real\")\n",
        "plt.show()"
      ],
      "metadata": {
        "colab": {
          "base_uri": "https://localhost:8080/",
          "height": 488
        },
        "id": "9cZ-vNr3bKHt",
        "outputId": "d5456183-ea77-4c0c-e667-3afded3c266b"
      },
      "execution_count": null,
      "outputs": [
        {
          "output_type": "display_data",
          "data": {
            "text/plain": [
              "<Figure size 600x500 with 2 Axes>"
            ],
            "image/png": "[encoded data removed]"
          },
          "metadata": {}
        }
      ]
    },
    {
      "cell_type": "markdown",
      "source": [
        "## Aprendizado Não-Supervisionado\n",
        "\n",
        "O aprendizado não supervisionado envolve treinar um modelo usando dados não rotulados. A biblioteca MLlib do PySpark oferece suporte a tarefas como agrupamento, incluindo modelos como, por exemplo, k-means."
      ],
      "metadata": {
        "id": "WUnMpUuw9GgD"
      }
    },
    {
      "cell_type": "code",
      "source": [
        "from pyspark.ml.clustering import KMeans\n",
        "from pyspark.ml.evaluation import ClusteringEvaluator\n",
        "\n",
        "k_means_df = standardized_df.select(\"standardized_features\", \"label\")\n",
        "\n",
        "kmeans = KMeans(featuresCol=\"standardized_features\", k=3)\n",
        "model = kmeans.fit(k_means_df.select(\"standardized_features\"))\n",
        "\n",
        "predictions_kmeans = model.transform(k_means_df)\n",
        "\n",
        "evaluator = ClusteringEvaluator(featuresCol=\"standardized_features\", metricName=\"silhouette\")\n",
        "silhouette = evaluator.evaluate(predictions_kmeans)\n",
        "\n",
        "print(f\"Índice de Silhouette: {silhouette}\")"
      ],
      "metadata": {
        "colab": {
          "base_uri": "https://localhost:8080/"
        },
        "id": "2sFpYf-IaZHn",
        "outputId": "a95b0c03-88ac-4369-c3ee-dd834845e6a8"
      },
      "execution_count": null,
      "outputs": [
        {
          "output_type": "stream",
          "name": "stdout",
          "text": [
            "Índice de Silhouette: 0.6444440292703125\n"
          ]
        }
      ]
    },
    {
      "cell_type": "code",
      "source": [
        "import matplotlib.pyplot as plt\n",
        "import pandas as pd\n",
        "import seaborn as sns\n",
        "\n",
        "predictions_pandas = predictions_kmeans.select(\"standardized_features\", \"label\", \"prediction\").toPandas()\n",
        "\n",
        "predictions_pandas[\"petal_length\"] = predictions_pandas[\"standardized_features\"].apply(lambda x: x[2])\n",
        "predictions_pandas[\"petal_width\"] = predictions_pandas[\"standardized_features\"].apply(lambda x: x[3])\n",
        "\n",
        "plt.figure(figsize=(12, 5))\n",
        "\n",
        "plt.subplot(1, 2, 1)\n",
        "sns.scatterplot(\n",
        "    x=predictions_pandas[\"petal_length\"],\n",
        "    y=predictions_pandas[\"petal_width\"],\n",
        "    hue=predictions_pandas[\"label\"],\n",
        "    palette=\"coolwarm\",\n",
        "    s=70,\n",
        "    edgecolor=\"k\"\n",
        ")\n",
        "plt.title(\"Classes Reais no Dataset Iris\")\n",
        "plt.xlabel(\"Petal Length\")\n",
        "plt.ylabel(\"Petal Width\")\n",
        "plt.legend(title=\"Classe Real\")\n",
        "plt.grid(True)\n",
        "\n",
        "plt.subplot(1, 2, 2)\n",
        "sns.scatterplot(\n",
        "    x=predictions_pandas[\"petal_length\"],\n",
        "    y=predictions_pandas[\"petal_width\"],\n",
        "    hue=predictions_pandas[\"prediction\"],\n",
        "    palette=\"viridis\",\n",
        "    s=70,\n",
        "    edgecolor=\"k\"\n",
        ")\n",
        "plt.title(\"Previsões\")\n",
        "plt.xlabel(\"Petal Length\")\n",
        "plt.ylabel(\"Petal Width\")\n",
        "plt.legend(title=\"Classe Prevista\")\n",
        "plt.grid(True)\n",
        "\n",
        "plt.tight_layout()\n",
        "plt.show()"
      ],
      "metadata": {
        "colab": {
          "base_uri": "https://localhost:8080/",
          "height": 507
        },
        "id": "H12Y9pxGaqXN",
        "outputId": "cfd76b37-f56e-47e4-b81e-05ba41456f02"
      },
      "execution_count": null,
      "outputs": [
        {
          "output_type": "display_data",
          "data": {
            "text/plain": [
              "<Figure size 1200x500 with 2 Axes>"
            ],
            "image/png": "[encoded data removed]"
          },
          "metadata": {}
        }
      ]
    }
  ]
}